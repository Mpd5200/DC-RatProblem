{
 "cells": [
  {
   "cell_type": "code",
   "execution_count": 1,
   "metadata": {},
   "outputs": [],
   "source": [
    "import pandas as pd "
   ]
  },
  {
   "cell_type": "code",
   "execution_count": 2,
   "metadata": {},
   "outputs": [
    {
     "data": {
      "text/html": [
       "<div>\n",
       "<style scoped>\n",
       "    .dataframe tbody tr th:only-of-type {\n",
       "        vertical-align: middle;\n",
       "    }\n",
       "\n",
       "    .dataframe tbody tr th {\n",
       "        vertical-align: top;\n",
       "    }\n",
       "\n",
       "    .dataframe thead th {\n",
       "        text-align: right;\n",
       "    }\n",
       "</style>\n",
       "<table border=\"1\" class=\"dataframe\">\n",
       "  <thead>\n",
       "    <tr style=\"text-align: right;\">\n",
       "      <th></th>\n",
       "      <th>SERVICECODEDESCRIPTION</th>\n",
       "      <th>LATITUDE</th>\n",
       "      <th>LONGITUDE</th>\n",
       "      <th>WARD</th>\n",
       "      <th>ADDDATE</th>\n",
       "      <th>RESOLUTIONDATE</th>\n",
       "      <th>Primary_key</th>\n",
       "      <th>ADD_DATE</th>\n",
       "      <th>RESOLVE_DATE</th>\n",
       "    </tr>\n",
       "  </thead>\n",
       "  <tbody>\n",
       "    <tr>\n",
       "      <th>0</th>\n",
       "      <td>Rodent Inspection and Treatment</td>\n",
       "      <td>38.893717</td>\n",
       "      <td>-76.926186</td>\n",
       "      <td>7.0</td>\n",
       "      <td>2018-01-04T05:32:08.000Z</td>\n",
       "      <td>2018-01-11T12:45:03.000Z</td>\n",
       "      <td>1</td>\n",
       "      <td>2018-01-04</td>\n",
       "      <td>2018-01</td>\n",
       "    </tr>\n",
       "    <tr>\n",
       "      <th>1</th>\n",
       "      <td>Rodent Inspection and Treatment</td>\n",
       "      <td>38.887417</td>\n",
       "      <td>-76.978319</td>\n",
       "      <td>6.0</td>\n",
       "      <td>2018-01-03T22:48:57.000Z</td>\n",
       "      <td>2018-01-11T12:04:18.000Z</td>\n",
       "      <td>2</td>\n",
       "      <td>2018-01-03</td>\n",
       "      <td>2018-01</td>\n",
       "    </tr>\n",
       "    <tr>\n",
       "      <th>2</th>\n",
       "      <td>Rodent Inspection and Treatment</td>\n",
       "      <td>38.865376</td>\n",
       "      <td>-76.948792</td>\n",
       "      <td>7.0</td>\n",
       "      <td>2018-01-04T11:49:01.000Z</td>\n",
       "      <td>2018-01-11T12:39:38.000Z</td>\n",
       "      <td>3</td>\n",
       "      <td>2018-01-04</td>\n",
       "      <td>2018-01</td>\n",
       "    </tr>\n",
       "    <tr>\n",
       "      <th>3</th>\n",
       "      <td>Rodent Inspection and Treatment</td>\n",
       "      <td>38.919017</td>\n",
       "      <td>-77.014939</td>\n",
       "      <td>1.0</td>\n",
       "      <td>2018-01-04T11:51:09.000Z</td>\n",
       "      <td>2018-01-11T14:37:18.000Z</td>\n",
       "      <td>4</td>\n",
       "      <td>2018-01-04</td>\n",
       "      <td>2018-01</td>\n",
       "    </tr>\n",
       "    <tr>\n",
       "      <th>4</th>\n",
       "      <td>Rodent Inspection and Treatment</td>\n",
       "      <td>38.911716</td>\n",
       "      <td>-77.032672</td>\n",
       "      <td>2.0</td>\n",
       "      <td>2018-01-04T16:19:40.000Z</td>\n",
       "      <td>2018-01-10T12:31:28.000Z</td>\n",
       "      <td>5</td>\n",
       "      <td>2018-01-04</td>\n",
       "      <td>2018-01</td>\n",
       "    </tr>\n",
       "  </tbody>\n",
       "</table>\n",
       "</div>"
      ],
      "text/plain": [
       "            SERVICECODEDESCRIPTION   LATITUDE  LONGITUDE  WARD  \\\n",
       "0  Rodent Inspection and Treatment  38.893717 -76.926186   7.0   \n",
       "1  Rodent Inspection and Treatment  38.887417 -76.978319   6.0   \n",
       "2  Rodent Inspection and Treatment  38.865376 -76.948792   7.0   \n",
       "3  Rodent Inspection and Treatment  38.919017 -77.014939   1.0   \n",
       "4  Rodent Inspection and Treatment  38.911716 -77.032672   2.0   \n",
       "\n",
       "                    ADDDATE            RESOLUTIONDATE  Primary_key  \\\n",
       "0  2018-01-04T05:32:08.000Z  2018-01-11T12:45:03.000Z            1   \n",
       "1  2018-01-03T22:48:57.000Z  2018-01-11T12:04:18.000Z            2   \n",
       "2  2018-01-04T11:49:01.000Z  2018-01-11T12:39:38.000Z            3   \n",
       "3  2018-01-04T11:51:09.000Z  2018-01-11T14:37:18.000Z            4   \n",
       "4  2018-01-04T16:19:40.000Z  2018-01-10T12:31:28.000Z            5   \n",
       "\n",
       "     ADD_DATE RESOLVE_DATE  \n",
       "0  2018-01-04      2018-01  \n",
       "1  2018-01-03      2018-01  \n",
       "2  2018-01-04      2018-01  \n",
       "3  2018-01-04      2018-01  \n",
       "4  2018-01-04      2018-01  "
      ]
     },
     "execution_count": 2,
     "metadata": {},
     "output_type": "execute_result"
    }
   ],
   "source": [
    "rat_data = pd.read_csv(\"rodents_sightings.csv\")\n",
    "rat_data.head()"
   ]
  },
  {
   "cell_type": "code",
   "execution_count": 3,
   "metadata": {},
   "outputs": [],
   "source": [
    "rat_data.to_html(\"data.html\")"
   ]
  },
  {
   "cell_type": "code",
   "execution_count": null,
   "metadata": {},
   "outputs": [],
   "source": []
  }
 ],
 "metadata": {
  "kernelspec": {
   "display_name": "Python 3",
   "language": "python",
   "name": "python3"
  },
  "language_info": {
   "codemirror_mode": {
    "name": "ipython",
    "version": 3
   },
   "file_extension": ".py",
   "mimetype": "text/x-python",
   "name": "python",
   "nbconvert_exporter": "python",
   "pygments_lexer": "ipython3",
   "version": "3.6.4"
  }
 },
 "nbformat": 4,
 "nbformat_minor": 2
}
